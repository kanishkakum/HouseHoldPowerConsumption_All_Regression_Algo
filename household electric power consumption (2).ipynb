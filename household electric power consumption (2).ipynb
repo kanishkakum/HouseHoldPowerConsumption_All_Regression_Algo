{
 "cells": [
  {
   "cell_type": "code",
   "execution_count": 1,
   "id": "70bcbd18",
   "metadata": {},
   "outputs": [],
   "source": [
    "import pandas as pd\n",
    "import numpy as np\n",
    "import seaborn as sns\n",
    "import matplotlib.pyplot as plt\n",
    "%matplotlib inline\n",
    "import warnings\n",
    "warnings.filterwarnings('ignore')"
   ]
  },
  {
   "cell_type": "markdown",
   "id": "d8c408ff",
   "metadata": {},
   "source": [
    "# Data Ingestion"
   ]
  },
  {
   "cell_type": "code",
   "execution_count": 4,
   "id": "075baeac",
   "metadata": {},
   "outputs": [],
   "source": [
    "data=pd.read_csv(r'C:\\Users\\hp\\Desktop\\household_power_consumption.txt',sep=';',low_memory=False,na_values=['nan','?'])"
   ]
  },
  {
   "cell_type": "code",
   "execution_count": 5,
   "id": "69e7966b",
   "metadata": {},
   "outputs": [
    {
     "data": {
      "text/html": [
       "<div>\n",
       "<style scoped>\n",
       "    .dataframe tbody tr th:only-of-type {\n",
       "        vertical-align: middle;\n",
       "    }\n",
       "\n",
       "    .dataframe tbody tr th {\n",
       "        vertical-align: top;\n",
       "    }\n",
       "\n",
       "    .dataframe thead th {\n",
       "        text-align: right;\n",
       "    }\n",
       "</style>\n",
       "<table border=\"1\" class=\"dataframe\">\n",
       "  <thead>\n",
       "    <tr style=\"text-align: right;\">\n",
       "      <th></th>\n",
       "      <th>Date</th>\n",
       "      <th>Time</th>\n",
       "      <th>Global_active_power</th>\n",
       "      <th>Global_reactive_power</th>\n",
       "      <th>Voltage</th>\n",
       "      <th>Global_intensity</th>\n",
       "      <th>Sub_metering_1</th>\n",
       "      <th>Sub_metering_2</th>\n",
       "      <th>Sub_metering_3</th>\n",
       "    </tr>\n",
       "  </thead>\n",
       "  <tbody>\n",
       "    <tr>\n",
       "      <th>0</th>\n",
       "      <td>16/12/2006</td>\n",
       "      <td>17:24:00</td>\n",
       "      <td>4.216</td>\n",
       "      <td>0.418</td>\n",
       "      <td>234.84</td>\n",
       "      <td>18.4</td>\n",
       "      <td>0.0</td>\n",
       "      <td>1.0</td>\n",
       "      <td>17.0</td>\n",
       "    </tr>\n",
       "    <tr>\n",
       "      <th>1</th>\n",
       "      <td>16/12/2006</td>\n",
       "      <td>17:25:00</td>\n",
       "      <td>5.360</td>\n",
       "      <td>0.436</td>\n",
       "      <td>233.63</td>\n",
       "      <td>23.0</td>\n",
       "      <td>0.0</td>\n",
       "      <td>1.0</td>\n",
       "      <td>16.0</td>\n",
       "    </tr>\n",
       "    <tr>\n",
       "      <th>2</th>\n",
       "      <td>16/12/2006</td>\n",
       "      <td>17:26:00</td>\n",
       "      <td>5.374</td>\n",
       "      <td>0.498</td>\n",
       "      <td>233.29</td>\n",
       "      <td>23.0</td>\n",
       "      <td>0.0</td>\n",
       "      <td>2.0</td>\n",
       "      <td>17.0</td>\n",
       "    </tr>\n",
       "    <tr>\n",
       "      <th>3</th>\n",
       "      <td>16/12/2006</td>\n",
       "      <td>17:27:00</td>\n",
       "      <td>5.388</td>\n",
       "      <td>0.502</td>\n",
       "      <td>233.74</td>\n",
       "      <td>23.0</td>\n",
       "      <td>0.0</td>\n",
       "      <td>1.0</td>\n",
       "      <td>17.0</td>\n",
       "    </tr>\n",
       "    <tr>\n",
       "      <th>4</th>\n",
       "      <td>16/12/2006</td>\n",
       "      <td>17:28:00</td>\n",
       "      <td>3.666</td>\n",
       "      <td>0.528</td>\n",
       "      <td>235.68</td>\n",
       "      <td>15.8</td>\n",
       "      <td>0.0</td>\n",
       "      <td>1.0</td>\n",
       "      <td>17.0</td>\n",
       "    </tr>\n",
       "  </tbody>\n",
       "</table>\n",
       "</div>"
      ],
      "text/plain": [
       "         Date      Time  Global_active_power  Global_reactive_power  Voltage  \\\n",
       "0  16/12/2006  17:24:00                4.216                  0.418   234.84   \n",
       "1  16/12/2006  17:25:00                5.360                  0.436   233.63   \n",
       "2  16/12/2006  17:26:00                5.374                  0.498   233.29   \n",
       "3  16/12/2006  17:27:00                5.388                  0.502   233.74   \n",
       "4  16/12/2006  17:28:00                3.666                  0.528   235.68   \n",
       "\n",
       "   Global_intensity  Sub_metering_1  Sub_metering_2  Sub_metering_3  \n",
       "0              18.4             0.0             1.0            17.0  \n",
       "1              23.0             0.0             1.0            16.0  \n",
       "2              23.0             0.0             2.0            17.0  \n",
       "3              23.0             0.0             1.0            17.0  \n",
       "4              15.8             0.0             1.0            17.0  "
      ]
     },
     "execution_count": 5,
     "metadata": {},
     "output_type": "execute_result"
    }
   ],
   "source": [
    "data.head()"
   ]
  },
  {
   "cell_type": "code",
   "execution_count": 6,
   "id": "661158f7",
   "metadata": {},
   "outputs": [
    {
     "data": {
      "text/html": [
       "<div>\n",
       "<style scoped>\n",
       "    .dataframe tbody tr th:only-of-type {\n",
       "        vertical-align: middle;\n",
       "    }\n",
       "\n",
       "    .dataframe tbody tr th {\n",
       "        vertical-align: top;\n",
       "    }\n",
       "\n",
       "    .dataframe thead th {\n",
       "        text-align: right;\n",
       "    }\n",
       "</style>\n",
       "<table border=\"1\" class=\"dataframe\">\n",
       "  <thead>\n",
       "    <tr style=\"text-align: right;\">\n",
       "      <th></th>\n",
       "      <th>Date</th>\n",
       "      <th>Time</th>\n",
       "      <th>Global_active_power</th>\n",
       "      <th>Global_reactive_power</th>\n",
       "      <th>Voltage</th>\n",
       "      <th>Global_intensity</th>\n",
       "      <th>Sub_metering_1</th>\n",
       "      <th>Sub_metering_2</th>\n",
       "      <th>Sub_metering_3</th>\n",
       "    </tr>\n",
       "  </thead>\n",
       "  <tbody>\n",
       "    <tr>\n",
       "      <th>2075254</th>\n",
       "      <td>26/11/2010</td>\n",
       "      <td>20:58:00</td>\n",
       "      <td>0.946</td>\n",
       "      <td>0.0</td>\n",
       "      <td>240.43</td>\n",
       "      <td>4.0</td>\n",
       "      <td>0.0</td>\n",
       "      <td>0.0</td>\n",
       "      <td>0.0</td>\n",
       "    </tr>\n",
       "    <tr>\n",
       "      <th>2075255</th>\n",
       "      <td>26/11/2010</td>\n",
       "      <td>20:59:00</td>\n",
       "      <td>0.944</td>\n",
       "      <td>0.0</td>\n",
       "      <td>240.00</td>\n",
       "      <td>4.0</td>\n",
       "      <td>0.0</td>\n",
       "      <td>0.0</td>\n",
       "      <td>0.0</td>\n",
       "    </tr>\n",
       "    <tr>\n",
       "      <th>2075256</th>\n",
       "      <td>26/11/2010</td>\n",
       "      <td>21:00:00</td>\n",
       "      <td>0.938</td>\n",
       "      <td>0.0</td>\n",
       "      <td>239.82</td>\n",
       "      <td>3.8</td>\n",
       "      <td>0.0</td>\n",
       "      <td>0.0</td>\n",
       "      <td>0.0</td>\n",
       "    </tr>\n",
       "    <tr>\n",
       "      <th>2075257</th>\n",
       "      <td>26/11/2010</td>\n",
       "      <td>21:01:00</td>\n",
       "      <td>0.934</td>\n",
       "      <td>0.0</td>\n",
       "      <td>239.70</td>\n",
       "      <td>3.8</td>\n",
       "      <td>0.0</td>\n",
       "      <td>0.0</td>\n",
       "      <td>0.0</td>\n",
       "    </tr>\n",
       "    <tr>\n",
       "      <th>2075258</th>\n",
       "      <td>26/11/2010</td>\n",
       "      <td>21:02:00</td>\n",
       "      <td>0.932</td>\n",
       "      <td>0.0</td>\n",
       "      <td>239.55</td>\n",
       "      <td>3.8</td>\n",
       "      <td>0.0</td>\n",
       "      <td>0.0</td>\n",
       "      <td>0.0</td>\n",
       "    </tr>\n",
       "  </tbody>\n",
       "</table>\n",
       "</div>"
      ],
      "text/plain": [
       "               Date      Time  Global_active_power  Global_reactive_power  \\\n",
       "2075254  26/11/2010  20:58:00                0.946                    0.0   \n",
       "2075255  26/11/2010  20:59:00                0.944                    0.0   \n",
       "2075256  26/11/2010  21:00:00                0.938                    0.0   \n",
       "2075257  26/11/2010  21:01:00                0.934                    0.0   \n",
       "2075258  26/11/2010  21:02:00                0.932                    0.0   \n",
       "\n",
       "         Voltage  Global_intensity  Sub_metering_1  Sub_metering_2  \\\n",
       "2075254   240.43               4.0             0.0             0.0   \n",
       "2075255   240.00               4.0             0.0             0.0   \n",
       "2075256   239.82               3.8             0.0             0.0   \n",
       "2075257   239.70               3.8             0.0             0.0   \n",
       "2075258   239.55               3.8             0.0             0.0   \n",
       "\n",
       "         Sub_metering_3  \n",
       "2075254             0.0  \n",
       "2075255             0.0  \n",
       "2075256             0.0  \n",
       "2075257             0.0  \n",
       "2075258             0.0  "
      ]
     },
     "execution_count": 6,
     "metadata": {},
     "output_type": "execute_result"
    }
   ],
   "source": [
    "data.tail()"
   ]
  },
  {
   "cell_type": "markdown",
   "id": "6dcab361",
   "metadata": {},
   "source": [
    "# Attribute Information"
   ]
  },
  {
   "cell_type": "markdown",
   "id": "9ef55e4d",
   "metadata": {},
   "source": [
    "1.date: Date in format dd/mm/yyyy\n",
    "\n",
    "2.time: time in format hh:mm:ss\n",
    "\n",
    "3.global_active_power: household global minute-averaged active power (in kilowatt)\n",
    "\n",
    "4.global_reactive_power: household global minute-averaged reactive power (in kilowatt)\n",
    "\n",
    "5.voltage: minute-averaged voltage (in volt)\n",
    "\n",
    "6.global_intensity: household global minute-averaged current intensity (in ampere)\n",
    "\n",
    "7.sub_metering_1: energy sub-metering No. 1 (in watt-hour of active energy). It corresponds to the kitchen, containing mainly a dishwasher, an oven and a microwave (hot plates are not electric but gas powered).\n",
    "\n",
    "8.sub_metering_2: energy sub-metering No. 2 (in watt-hour of active energy). It corresponds to the laundry room, containing a washing-machine, a tumble-drier, a refrigerator and a light.\n",
    "\n",
    "9.sub_metering_3: energy sub-metering No. 3 (in watt-hour of active energy). It corresponds to an electric water-heater and an air-conditioner."
   ]
  },
  {
   "cell_type": "code",
   "execution_count": 8,
   "id": "80692835",
   "metadata": {},
   "outputs": [
    {
     "data": {
      "text/plain": [
       "(2075259, 9)"
      ]
     },
     "execution_count": 8,
     "metadata": {},
     "output_type": "execute_result"
    }
   ],
   "source": [
    "data.shape"
   ]
  },
  {
   "cell_type": "markdown",
   "id": "bbaa9b4e",
   "metadata": {},
   "source": [
    "From above we can find there are total 2075259 rows and 9 features"
   ]
  },
  {
   "cell_type": "markdown",
   "id": "333885e2",
   "metadata": {},
   "source": [
    "**Since the dataset is very large so we are taking 50000 sample from the dataset**"
   ]
  },
  {
   "cell_type": "code",
   "execution_count": 9,
   "id": "3ae632ad",
   "metadata": {},
   "outputs": [],
   "source": [
    "data=data.sample(50000).reset_index().drop('index',axis=1)"
   ]
  },
  {
   "cell_type": "code",
   "execution_count": 10,
   "id": "2e754c57",
   "metadata": {},
   "outputs": [
    {
     "data": {
      "text/plain": [
       "(50000, 9)"
      ]
     },
     "execution_count": 10,
     "metadata": {},
     "output_type": "execute_result"
    }
   ],
   "source": [
    "data.shape"
   ]
  },
  {
   "cell_type": "markdown",
   "id": "b9a95a5c",
   "metadata": {},
   "source": [
    "# EDA"
   ]
  },
  {
   "cell_type": "code",
   "execution_count": 11,
   "id": "19d00e84",
   "metadata": {},
   "outputs": [
    {
     "data": {
      "text/plain": [
       "Index(['Date', 'Time', 'Global_active_power', 'Global_reactive_power',\n",
       "       'Voltage', 'Global_intensity', 'Sub_metering_1', 'Sub_metering_2',\n",
       "       'Sub_metering_3'],\n",
       "      dtype='object')"
      ]
     },
     "execution_count": 11,
     "metadata": {},
     "output_type": "execute_result"
    }
   ],
   "source": [
    "#checking feature\n",
    "data.columns"
   ]
  },
  {
   "cell_type": "code",
   "execution_count": 12,
   "id": "6a3ba314",
   "metadata": {},
   "outputs": [
    {
     "name": "stdout",
     "output_type": "stream",
     "text": [
      "<class 'pandas.core.frame.DataFrame'>\n",
      "RangeIndex: 50000 entries, 0 to 49999\n",
      "Data columns (total 9 columns):\n",
      " #   Column                 Non-Null Count  Dtype  \n",
      "---  ------                 --------------  -----  \n",
      " 0   Date                   50000 non-null  object \n",
      " 1   Time                   50000 non-null  object \n",
      " 2   Global_active_power    49385 non-null  float64\n",
      " 3   Global_reactive_power  49385 non-null  float64\n",
      " 4   Voltage                49385 non-null  float64\n",
      " 5   Global_intensity       49385 non-null  float64\n",
      " 6   Sub_metering_1         49385 non-null  float64\n",
      " 7   Sub_metering_2         49385 non-null  float64\n",
      " 8   Sub_metering_3         49385 non-null  float64\n",
      "dtypes: float64(7), object(2)\n",
      "memory usage: 3.4+ MB\n"
     ]
    }
   ],
   "source": [
    "#checking info about the data\n",
    "data.info()"
   ]
  },
  {
   "cell_type": "code",
   "execution_count": 13,
   "id": "fb4ce788",
   "metadata": {},
   "outputs": [],
   "source": [
    "#converting Date feature datatype to datetime\n",
    "data['Date']=pd.to_datetime(data['Date'])"
   ]
  },
  {
   "cell_type": "code",
   "execution_count": 14,
   "id": "24573cd3",
   "metadata": {},
   "outputs": [
    {
     "name": "stdout",
     "output_type": "stream",
     "text": [
      "<class 'pandas.core.frame.DataFrame'>\n",
      "RangeIndex: 50000 entries, 0 to 49999\n",
      "Data columns (total 9 columns):\n",
      " #   Column                 Non-Null Count  Dtype         \n",
      "---  ------                 --------------  -----         \n",
      " 0   Date                   50000 non-null  datetime64[ns]\n",
      " 1   Time                   50000 non-null  object        \n",
      " 2   Global_active_power    49385 non-null  float64       \n",
      " 3   Global_reactive_power  49385 non-null  float64       \n",
      " 4   Voltage                49385 non-null  float64       \n",
      " 5   Global_intensity       49385 non-null  float64       \n",
      " 6   Sub_metering_1         49385 non-null  float64       \n",
      " 7   Sub_metering_2         49385 non-null  float64       \n",
      " 8   Sub_metering_3         49385 non-null  float64       \n",
      "dtypes: datetime64[ns](1), float64(7), object(1)\n",
      "memory usage: 3.4+ MB\n"
     ]
    }
   ],
   "source": [
    "data.info()"
   ]
  },
  {
   "cell_type": "code",
   "execution_count": 15,
   "id": "f67690ac",
   "metadata": {},
   "outputs": [],
   "source": [
    "#dropping the column Time\n",
    "data.drop('Time',axis=1,inplace=True)"
   ]
  },
  {
   "cell_type": "code",
   "execution_count": 16,
   "id": "6892467e",
   "metadata": {},
   "outputs": [
    {
     "data": {
      "text/html": [
       "<div>\n",
       "<style scoped>\n",
       "    .dataframe tbody tr th:only-of-type {\n",
       "        vertical-align: middle;\n",
       "    }\n",
       "\n",
       "    .dataframe tbody tr th {\n",
       "        vertical-align: top;\n",
       "    }\n",
       "\n",
       "    .dataframe thead th {\n",
       "        text-align: right;\n",
       "    }\n",
       "</style>\n",
       "<table border=\"1\" class=\"dataframe\">\n",
       "  <thead>\n",
       "    <tr style=\"text-align: right;\">\n",
       "      <th></th>\n",
       "      <th>Date</th>\n",
       "      <th>Global_active_power</th>\n",
       "      <th>Global_reactive_power</th>\n",
       "      <th>Voltage</th>\n",
       "      <th>Global_intensity</th>\n",
       "      <th>Sub_metering_1</th>\n",
       "      <th>Sub_metering_2</th>\n",
       "      <th>Sub_metering_3</th>\n",
       "    </tr>\n",
       "  </thead>\n",
       "  <tbody>\n",
       "    <tr>\n",
       "      <th>0</th>\n",
       "      <td>2010-08-02</td>\n",
       "      <td>2.616</td>\n",
       "      <td>0.076</td>\n",
       "      <td>242.33</td>\n",
       "      <td>10.8</td>\n",
       "      <td>0.0</td>\n",
       "      <td>0.0</td>\n",
       "      <td>19.0</td>\n",
       "    </tr>\n",
       "    <tr>\n",
       "      <th>1</th>\n",
       "      <td>2007-07-26</td>\n",
       "      <td>0.224</td>\n",
       "      <td>0.112</td>\n",
       "      <td>235.27</td>\n",
       "      <td>1.0</td>\n",
       "      <td>0.0</td>\n",
       "      <td>0.0</td>\n",
       "      <td>0.0</td>\n",
       "    </tr>\n",
       "    <tr>\n",
       "      <th>2</th>\n",
       "      <td>2008-06-16</td>\n",
       "      <td>1.938</td>\n",
       "      <td>0.248</td>\n",
       "      <td>240.16</td>\n",
       "      <td>8.0</td>\n",
       "      <td>0.0</td>\n",
       "      <td>0.0</td>\n",
       "      <td>18.0</td>\n",
       "    </tr>\n",
       "    <tr>\n",
       "      <th>3</th>\n",
       "      <td>2010-05-06</td>\n",
       "      <td>2.586</td>\n",
       "      <td>0.092</td>\n",
       "      <td>241.89</td>\n",
       "      <td>10.6</td>\n",
       "      <td>38.0</td>\n",
       "      <td>0.0</td>\n",
       "      <td>0.0</td>\n",
       "    </tr>\n",
       "    <tr>\n",
       "      <th>4</th>\n",
       "      <td>2008-07-26</td>\n",
       "      <td>0.234</td>\n",
       "      <td>0.100</td>\n",
       "      <td>239.38</td>\n",
       "      <td>1.0</td>\n",
       "      <td>0.0</td>\n",
       "      <td>2.0</td>\n",
       "      <td>1.0</td>\n",
       "    </tr>\n",
       "  </tbody>\n",
       "</table>\n",
       "</div>"
      ],
      "text/plain": [
       "        Date  Global_active_power  Global_reactive_power  Voltage  \\\n",
       "0 2010-08-02                2.616                  0.076   242.33   \n",
       "1 2007-07-26                0.224                  0.112   235.27   \n",
       "2 2008-06-16                1.938                  0.248   240.16   \n",
       "3 2010-05-06                2.586                  0.092   241.89   \n",
       "4 2008-07-26                0.234                  0.100   239.38   \n",
       "\n",
       "   Global_intensity  Sub_metering_1  Sub_metering_2  Sub_metering_3  \n",
       "0              10.8             0.0             0.0            19.0  \n",
       "1               1.0             0.0             0.0             0.0  \n",
       "2               8.0             0.0             0.0            18.0  \n",
       "3              10.6            38.0             0.0             0.0  \n",
       "4               1.0             0.0             2.0             1.0  "
      ]
     },
     "execution_count": 16,
     "metadata": {},
     "output_type": "execute_result"
    }
   ],
   "source": [
    "data.head()"
   ]
  },
  {
   "cell_type": "code",
   "execution_count": 17,
   "id": "1bc761b9",
   "metadata": {},
   "outputs": [],
   "source": [
    "#Grouping data on the basis of dates\n",
    "data=data.groupby('Date').sum()"
   ]
  },
  {
   "cell_type": "code",
   "execution_count": 18,
   "id": "aba8d90a",
   "metadata": {},
   "outputs": [],
   "source": [
    "data.reset_index(inplace=True)"
   ]
  },
  {
   "cell_type": "code",
   "execution_count": 20,
   "id": "1eefa6d4",
   "metadata": {},
   "outputs": [],
   "source": [
    "#creating two columns month and year\n",
    "data['year']=data['Date'].dt.year\n",
    "data['month']=data['Date'].dt.month"
   ]
  },
  {
   "cell_type": "code",
   "execution_count": 21,
   "id": "9cd1c762",
   "metadata": {},
   "outputs": [
    {
     "data": {
      "text/html": [
       "<div>\n",
       "<style scoped>\n",
       "    .dataframe tbody tr th:only-of-type {\n",
       "        vertical-align: middle;\n",
       "    }\n",
       "\n",
       "    .dataframe tbody tr th {\n",
       "        vertical-align: top;\n",
       "    }\n",
       "\n",
       "    .dataframe thead th {\n",
       "        text-align: right;\n",
       "    }\n",
       "</style>\n",
       "<table border=\"1\" class=\"dataframe\">\n",
       "  <thead>\n",
       "    <tr style=\"text-align: right;\">\n",
       "      <th></th>\n",
       "      <th>Date</th>\n",
       "      <th>Global_active_power</th>\n",
       "      <th>Global_reactive_power</th>\n",
       "      <th>Voltage</th>\n",
       "      <th>Global_intensity</th>\n",
       "      <th>Sub_metering_1</th>\n",
       "      <th>Sub_metering_2</th>\n",
       "      <th>Sub_metering_3</th>\n",
       "      <th>year</th>\n",
       "      <th>month</th>\n",
       "    </tr>\n",
       "  </thead>\n",
       "  <tbody>\n",
       "    <tr>\n",
       "      <th>0</th>\n",
       "      <td>2006-12-16</td>\n",
       "      <td>26.834</td>\n",
       "      <td>0.720</td>\n",
       "      <td>1890.66</td>\n",
       "      <td>114.6</td>\n",
       "      <td>0.0</td>\n",
       "      <td>4.0</td>\n",
       "      <td>84.0</td>\n",
       "      <td>2006</td>\n",
       "      <td>12</td>\n",
       "    </tr>\n",
       "    <tr>\n",
       "      <th>1</th>\n",
       "      <td>2006-12-17</td>\n",
       "      <td>85.920</td>\n",
       "      <td>5.756</td>\n",
       "      <td>8139.11</td>\n",
       "      <td>361.4</td>\n",
       "      <td>78.0</td>\n",
       "      <td>132.0</td>\n",
       "      <td>396.0</td>\n",
       "      <td>2006</td>\n",
       "      <td>12</td>\n",
       "    </tr>\n",
       "    <tr>\n",
       "      <th>2</th>\n",
       "      <td>2006-12-18</td>\n",
       "      <td>56.092</td>\n",
       "      <td>4.340</td>\n",
       "      <td>9168.80</td>\n",
       "      <td>235.8</td>\n",
       "      <td>38.0</td>\n",
       "      <td>146.0</td>\n",
       "      <td>244.0</td>\n",
       "      <td>2006</td>\n",
       "      <td>12</td>\n",
       "    </tr>\n",
       "    <tr>\n",
       "      <th>3</th>\n",
       "      <td>2006-12-19</td>\n",
       "      <td>35.980</td>\n",
       "      <td>4.052</td>\n",
       "      <td>8718.24</td>\n",
       "      <td>153.2</td>\n",
       "      <td>0.0</td>\n",
       "      <td>129.0</td>\n",
       "      <td>181.0</td>\n",
       "      <td>2006</td>\n",
       "      <td>12</td>\n",
       "    </tr>\n",
       "    <tr>\n",
       "      <th>4</th>\n",
       "      <td>2006-12-20</td>\n",
       "      <td>53.804</td>\n",
       "      <td>3.766</td>\n",
       "      <td>8942.63</td>\n",
       "      <td>225.2</td>\n",
       "      <td>0.0</td>\n",
       "      <td>7.0</td>\n",
       "      <td>316.0</td>\n",
       "      <td>2006</td>\n",
       "      <td>12</td>\n",
       "    </tr>\n",
       "  </tbody>\n",
       "</table>\n",
       "</div>"
      ],
      "text/plain": [
       "        Date  Global_active_power  Global_reactive_power  Voltage  \\\n",
       "0 2006-12-16               26.834                  0.720  1890.66   \n",
       "1 2006-12-17               85.920                  5.756  8139.11   \n",
       "2 2006-12-18               56.092                  4.340  9168.80   \n",
       "3 2006-12-19               35.980                  4.052  8718.24   \n",
       "4 2006-12-20               53.804                  3.766  8942.63   \n",
       "\n",
       "   Global_intensity  Sub_metering_1  Sub_metering_2  Sub_metering_3  year  \\\n",
       "0             114.6             0.0             4.0            84.0  2006   \n",
       "1             361.4            78.0           132.0           396.0  2006   \n",
       "2             235.8            38.0           146.0           244.0  2006   \n",
       "3             153.2             0.0           129.0           181.0  2006   \n",
       "4             225.2             0.0             7.0           316.0  2006   \n",
       "\n",
       "   month  \n",
       "0     12  \n",
       "1     12  \n",
       "2     12  \n",
       "3     12  \n",
       "4     12  "
      ]
     },
     "execution_count": 21,
     "metadata": {},
     "output_type": "execute_result"
    }
   ],
   "source": [
    "data.head()"
   ]
  },
  {
   "cell_type": "code",
   "execution_count": 27,
   "id": "ce04acae",
   "metadata": {},
   "outputs": [
    {
     "data": {
      "text/plain": [
       "Date                     16\n",
       "Global_active_power      16\n",
       "Global_reactive_power    16\n",
       "Voltage                  16\n",
       "Global_intensity         16\n",
       "Sub_metering_1           16\n",
       "Sub_metering_2           16\n",
       "Sub_metering_3           16\n",
       "year                     16\n",
       "month                    16\n",
       "dtype: int64"
      ]
     },
     "execution_count": 27,
     "metadata": {},
     "output_type": "execute_result"
    }
   ],
   "source": [
    "data[data['year']==2006].count()"
   ]
  },
  {
   "cell_type": "code",
   "execution_count": 29,
   "id": "a4f17183",
   "metadata": {},
   "outputs": [
    {
     "data": {
      "text/plain": [
       "(1442, 10)"
      ]
     },
     "execution_count": 29,
     "metadata": {},
     "output_type": "execute_result"
    }
   ],
   "source": [
    "data.shape"
   ]
  },
  {
   "cell_type": "code",
   "execution_count": 30,
   "id": "b2e0fca0",
   "metadata": {},
   "outputs": [
    {
     "data": {
      "text/plain": [
       "Date                     0\n",
       "Global_active_power      0\n",
       "Global_reactive_power    0\n",
       "Voltage                  0\n",
       "Global_intensity         0\n",
       "Sub_metering_1           0\n",
       "Sub_metering_2           0\n",
       "Sub_metering_3           0\n",
       "year                     0\n",
       "month                    0\n",
       "dtype: int64"
      ]
     },
     "execution_count": 30,
     "metadata": {},
     "output_type": "execute_result"
    }
   ],
   "source": [
    "#checking null values\n",
    "data.isna().sum()"
   ]
  },
  {
   "cell_type": "code",
   "execution_count": 31,
   "id": "0b2e8b60",
   "metadata": {},
   "outputs": [
    {
     "data": {
      "text/plain": [
       "Date                     0\n",
       "Global_active_power      0\n",
       "Global_reactive_power    0\n",
       "Voltage                  0\n",
       "Global_intensity         0\n",
       "Sub_metering_1           0\n",
       "Sub_metering_2           0\n",
       "Sub_metering_3           0\n",
       "year                     0\n",
       "month                    0\n",
       "dtype: int64"
      ]
     },
     "execution_count": 31,
     "metadata": {},
     "output_type": "execute_result"
    }
   ],
   "source": [
    "data.isnull().sum()"
   ]
  },
  {
   "cell_type": "markdown",
   "id": "fa7cd251",
   "metadata": {},
   "source": [
    "There is no null or missing values in dataset"
   ]
  },
  {
   "cell_type": "code",
   "execution_count": 32,
   "id": "698b81c8",
   "metadata": {},
   "outputs": [
    {
     "data": {
      "text/plain": [
       "0"
      ]
     },
     "execution_count": 32,
     "metadata": {},
     "output_type": "execute_result"
    }
   ],
   "source": [
    "#checking duplicate values\n",
    "data.duplicated().sum()"
   ]
  },
  {
   "cell_type": "markdown",
   "id": "f3ad9120",
   "metadata": {},
   "source": [
    "There is no duplicates data in the dataset"
   ]
  },
  {
   "cell_type": "code",
   "execution_count": 33,
   "id": "e70da770",
   "metadata": {},
   "outputs": [
    {
     "data": {
      "text/html": [
       "<div>\n",
       "<style scoped>\n",
       "    .dataframe tbody tr th:only-of-type {\n",
       "        vertical-align: middle;\n",
       "    }\n",
       "\n",
       "    .dataframe tbody tr th {\n",
       "        vertical-align: top;\n",
       "    }\n",
       "\n",
       "    .dataframe thead th {\n",
       "        text-align: right;\n",
       "    }\n",
       "</style>\n",
       "<table border=\"1\" class=\"dataframe\">\n",
       "  <thead>\n",
       "    <tr style=\"text-align: right;\">\n",
       "      <th></th>\n",
       "      <th>Date</th>\n",
       "      <th>Global_active_power</th>\n",
       "      <th>Global_reactive_power</th>\n",
       "      <th>Voltage</th>\n",
       "      <th>Global_intensity</th>\n",
       "      <th>Sub_metering_1</th>\n",
       "      <th>Sub_metering_2</th>\n",
       "      <th>Sub_metering_3</th>\n",
       "      <th>year</th>\n",
       "      <th>month</th>\n",
       "    </tr>\n",
       "  </thead>\n",
       "  <tbody>\n",
       "    <tr>\n",
       "      <th>0</th>\n",
       "      <td>2006-12-16</td>\n",
       "      <td>26.834</td>\n",
       "      <td>0.720</td>\n",
       "      <td>1890.66</td>\n",
       "      <td>114.6</td>\n",
       "      <td>0.0</td>\n",
       "      <td>4.0</td>\n",
       "      <td>84.0</td>\n",
       "      <td>2006</td>\n",
       "      <td>12</td>\n",
       "    </tr>\n",
       "    <tr>\n",
       "      <th>1</th>\n",
       "      <td>2006-12-17</td>\n",
       "      <td>85.920</td>\n",
       "      <td>5.756</td>\n",
       "      <td>8139.11</td>\n",
       "      <td>361.4</td>\n",
       "      <td>78.0</td>\n",
       "      <td>132.0</td>\n",
       "      <td>396.0</td>\n",
       "      <td>2006</td>\n",
       "      <td>12</td>\n",
       "    </tr>\n",
       "    <tr>\n",
       "      <th>2</th>\n",
       "      <td>2006-12-18</td>\n",
       "      <td>56.092</td>\n",
       "      <td>4.340</td>\n",
       "      <td>9168.80</td>\n",
       "      <td>235.8</td>\n",
       "      <td>38.0</td>\n",
       "      <td>146.0</td>\n",
       "      <td>244.0</td>\n",
       "      <td>2006</td>\n",
       "      <td>12</td>\n",
       "    </tr>\n",
       "    <tr>\n",
       "      <th>3</th>\n",
       "      <td>2006-12-19</td>\n",
       "      <td>35.980</td>\n",
       "      <td>4.052</td>\n",
       "      <td>8718.24</td>\n",
       "      <td>153.2</td>\n",
       "      <td>0.0</td>\n",
       "      <td>129.0</td>\n",
       "      <td>181.0</td>\n",
       "      <td>2006</td>\n",
       "      <td>12</td>\n",
       "    </tr>\n",
       "    <tr>\n",
       "      <th>4</th>\n",
       "      <td>2006-12-20</td>\n",
       "      <td>53.804</td>\n",
       "      <td>3.766</td>\n",
       "      <td>8942.63</td>\n",
       "      <td>225.2</td>\n",
       "      <td>0.0</td>\n",
       "      <td>7.0</td>\n",
       "      <td>316.0</td>\n",
       "      <td>2006</td>\n",
       "      <td>12</td>\n",
       "    </tr>\n",
       "  </tbody>\n",
       "</table>\n",
       "</div>"
      ],
      "text/plain": [
       "        Date  Global_active_power  Global_reactive_power  Voltage  \\\n",
       "0 2006-12-16               26.834                  0.720  1890.66   \n",
       "1 2006-12-17               85.920                  5.756  8139.11   \n",
       "2 2006-12-18               56.092                  4.340  9168.80   \n",
       "3 2006-12-19               35.980                  4.052  8718.24   \n",
       "4 2006-12-20               53.804                  3.766  8942.63   \n",
       "\n",
       "   Global_intensity  Sub_metering_1  Sub_metering_2  Sub_metering_3  year  \\\n",
       "0             114.6             0.0             4.0            84.0  2006   \n",
       "1             361.4            78.0           132.0           396.0  2006   \n",
       "2             235.8            38.0           146.0           244.0  2006   \n",
       "3             153.2             0.0           129.0           181.0  2006   \n",
       "4             225.2             0.0             7.0           316.0  2006   \n",
       "\n",
       "   month  \n",
       "0     12  \n",
       "1     12  \n",
       "2     12  \n",
       "3     12  \n",
       "4     12  "
      ]
     },
     "execution_count": 33,
     "metadata": {},
     "output_type": "execute_result"
    }
   ],
   "source": [
    "data.head()"
   ]
  },
  {
   "cell_type": "markdown",
   "id": "ca3dc491",
   "metadata": {},
   "source": [
    "(global_active_power*1000/60 - sub_metering_1 - sub_metering_2 - sub_metering_3) represents the active energy consumed every minute (in watt hour) in the household by electrical equipment not measured in sub-meterings 1, 2 and 3."
   ]
  },
  {
   "cell_type": "code",
   "execution_count": 34,
   "id": "85e2af56",
   "metadata": {},
   "outputs": [],
   "source": [
    "#Target variable power consumption\n",
    "pc=(data['Global_active_power']*1000/60)\n",
    "sm=data['Sub_metering_1']+data['Sub_metering_2']+data['Sub_metering_3']\n",
    "data['power_consumption']=pc-sm"
   ]
  },
  {
   "cell_type": "code",
   "execution_count": 35,
   "id": "6999000f",
   "metadata": {},
   "outputs": [
    {
     "data": {
      "text/html": [
       "<div>\n",
       "<style scoped>\n",
       "    .dataframe tbody tr th:only-of-type {\n",
       "        vertical-align: middle;\n",
       "    }\n",
       "\n",
       "    .dataframe tbody tr th {\n",
       "        vertical-align: top;\n",
       "    }\n",
       "\n",
       "    .dataframe thead th {\n",
       "        text-align: right;\n",
       "    }\n",
       "</style>\n",
       "<table border=\"1\" class=\"dataframe\">\n",
       "  <thead>\n",
       "    <tr style=\"text-align: right;\">\n",
       "      <th></th>\n",
       "      <th>Date</th>\n",
       "      <th>Global_active_power</th>\n",
       "      <th>Global_reactive_power</th>\n",
       "      <th>Voltage</th>\n",
       "      <th>Global_intensity</th>\n",
       "      <th>Sub_metering_1</th>\n",
       "      <th>Sub_metering_2</th>\n",
       "      <th>Sub_metering_3</th>\n",
       "      <th>year</th>\n",
       "      <th>month</th>\n",
       "      <th>power_consumption</th>\n",
       "    </tr>\n",
       "  </thead>\n",
       "  <tbody>\n",
       "    <tr>\n",
       "      <th>0</th>\n",
       "      <td>2006-12-16</td>\n",
       "      <td>26.834</td>\n",
       "      <td>0.720</td>\n",
       "      <td>1890.66</td>\n",
       "      <td>114.6</td>\n",
       "      <td>0.0</td>\n",
       "      <td>4.0</td>\n",
       "      <td>84.0</td>\n",
       "      <td>2006</td>\n",
       "      <td>12</td>\n",
       "      <td>359.233333</td>\n",
       "    </tr>\n",
       "    <tr>\n",
       "      <th>1</th>\n",
       "      <td>2006-12-17</td>\n",
       "      <td>85.920</td>\n",
       "      <td>5.756</td>\n",
       "      <td>8139.11</td>\n",
       "      <td>361.4</td>\n",
       "      <td>78.0</td>\n",
       "      <td>132.0</td>\n",
       "      <td>396.0</td>\n",
       "      <td>2006</td>\n",
       "      <td>12</td>\n",
       "      <td>826.000000</td>\n",
       "    </tr>\n",
       "    <tr>\n",
       "      <th>2</th>\n",
       "      <td>2006-12-18</td>\n",
       "      <td>56.092</td>\n",
       "      <td>4.340</td>\n",
       "      <td>9168.80</td>\n",
       "      <td>235.8</td>\n",
       "      <td>38.0</td>\n",
       "      <td>146.0</td>\n",
       "      <td>244.0</td>\n",
       "      <td>2006</td>\n",
       "      <td>12</td>\n",
       "      <td>506.866667</td>\n",
       "    </tr>\n",
       "    <tr>\n",
       "      <th>3</th>\n",
       "      <td>2006-12-19</td>\n",
       "      <td>35.980</td>\n",
       "      <td>4.052</td>\n",
       "      <td>8718.24</td>\n",
       "      <td>153.2</td>\n",
       "      <td>0.0</td>\n",
       "      <td>129.0</td>\n",
       "      <td>181.0</td>\n",
       "      <td>2006</td>\n",
       "      <td>12</td>\n",
       "      <td>289.666667</td>\n",
       "    </tr>\n",
       "    <tr>\n",
       "      <th>4</th>\n",
       "      <td>2006-12-20</td>\n",
       "      <td>53.804</td>\n",
       "      <td>3.766</td>\n",
       "      <td>8942.63</td>\n",
       "      <td>225.2</td>\n",
       "      <td>0.0</td>\n",
       "      <td>7.0</td>\n",
       "      <td>316.0</td>\n",
       "      <td>2006</td>\n",
       "      <td>12</td>\n",
       "      <td>573.733333</td>\n",
       "    </tr>\n",
       "  </tbody>\n",
       "</table>\n",
       "</div>"
      ],
      "text/plain": [
       "        Date  Global_active_power  Global_reactive_power  Voltage  \\\n",
       "0 2006-12-16               26.834                  0.720  1890.66   \n",
       "1 2006-12-17               85.920                  5.756  8139.11   \n",
       "2 2006-12-18               56.092                  4.340  9168.80   \n",
       "3 2006-12-19               35.980                  4.052  8718.24   \n",
       "4 2006-12-20               53.804                  3.766  8942.63   \n",
       "\n",
       "   Global_intensity  Sub_metering_1  Sub_metering_2  Sub_metering_3  year  \\\n",
       "0             114.6             0.0             4.0            84.0  2006   \n",
       "1             361.4            78.0           132.0           396.0  2006   \n",
       "2             235.8            38.0           146.0           244.0  2006   \n",
       "3             153.2             0.0           129.0           181.0  2006   \n",
       "4             225.2             0.0             7.0           316.0  2006   \n",
       "\n",
       "   month  power_consumption  \n",
       "0     12         359.233333  \n",
       "1     12         826.000000  \n",
       "2     12         506.866667  \n",
       "3     12         289.666667  \n",
       "4     12         573.733333  "
      ]
     },
     "execution_count": 35,
     "metadata": {},
     "output_type": "execute_result"
    }
   ],
   "source": [
    "data.head()"
   ]
  },
  {
   "cell_type": "code",
   "execution_count": 37,
   "id": "45658626",
   "metadata": {},
   "outputs": [],
   "source": [
    "data['sub_metering']=data['Sub_metering_1']+data['Sub_metering_2']+data['Sub_metering_3']"
   ]
  },
  {
   "cell_type": "code",
   "execution_count": 42,
   "id": "87daead1",
   "metadata": {},
   "outputs": [],
   "source": [
    "data=data.drop(['Sub_metering_1','Sub_metering_2','Sub_metering_3'],axis=1)"
   ]
  },
  {
   "cell_type": "code",
   "execution_count": 43,
   "id": "b35a1636",
   "metadata": {},
   "outputs": [
    {
     "ename": "KeyError",
     "evalue": "\"['Date'] not found in axis\"",
     "output_type": "error",
     "traceback": [
      "\u001b[1;31m---------------------------------------------------------------------------\u001b[0m",
      "\u001b[1;31mKeyError\u001b[0m                                  Traceback (most recent call last)",
      "\u001b[1;32m<ipython-input-43-3fff66b4f4be>\u001b[0m in \u001b[0;36m<module>\u001b[1;34m\u001b[0m\n\u001b[0;32m      1\u001b[0m \u001b[1;31m#dropping Date feature\u001b[0m\u001b[1;33m\u001b[0m\u001b[1;33m\u001b[0m\u001b[1;33m\u001b[0m\u001b[0m\n\u001b[1;32m----> 2\u001b[1;33m \u001b[0mdata\u001b[0m\u001b[1;33m.\u001b[0m\u001b[0mdrop\u001b[0m\u001b[1;33m(\u001b[0m\u001b[1;34m'Date'\u001b[0m\u001b[1;33m,\u001b[0m\u001b[0maxis\u001b[0m\u001b[1;33m=\u001b[0m\u001b[1;36m1\u001b[0m\u001b[1;33m,\u001b[0m\u001b[0minplace\u001b[0m\u001b[1;33m=\u001b[0m\u001b[1;32mTrue\u001b[0m\u001b[1;33m)\u001b[0m\u001b[1;33m\u001b[0m\u001b[1;33m\u001b[0m\u001b[0m\n\u001b[0m",
      "\u001b[1;32m~\\anaconda3\\envs\\test\\lib\\site-packages\\pandas\\core\\frame.py\u001b[0m in \u001b[0;36mdrop\u001b[1;34m(self, labels, axis, index, columns, level, inplace, errors)\u001b[0m\n\u001b[0;32m   4172\u001b[0m             \u001b[0mlevel\u001b[0m\u001b[1;33m=\u001b[0m\u001b[0mlevel\u001b[0m\u001b[1;33m,\u001b[0m\u001b[1;33m\u001b[0m\u001b[1;33m\u001b[0m\u001b[0m\n\u001b[0;32m   4173\u001b[0m             \u001b[0minplace\u001b[0m\u001b[1;33m=\u001b[0m\u001b[0minplace\u001b[0m\u001b[1;33m,\u001b[0m\u001b[1;33m\u001b[0m\u001b[1;33m\u001b[0m\u001b[0m\n\u001b[1;32m-> 4174\u001b[1;33m             \u001b[0merrors\u001b[0m\u001b[1;33m=\u001b[0m\u001b[0merrors\u001b[0m\u001b[1;33m,\u001b[0m\u001b[1;33m\u001b[0m\u001b[1;33m\u001b[0m\u001b[0m\n\u001b[0m\u001b[0;32m   4175\u001b[0m         )\n\u001b[0;32m   4176\u001b[0m \u001b[1;33m\u001b[0m\u001b[0m\n",
      "\u001b[1;32m~\\anaconda3\\envs\\test\\lib\\site-packages\\pandas\\core\\generic.py\u001b[0m in \u001b[0;36mdrop\u001b[1;34m(self, labels, axis, index, columns, level, inplace, errors)\u001b[0m\n\u001b[0;32m   3887\u001b[0m         \u001b[1;32mfor\u001b[0m \u001b[0maxis\u001b[0m\u001b[1;33m,\u001b[0m \u001b[0mlabels\u001b[0m \u001b[1;32min\u001b[0m \u001b[0maxes\u001b[0m\u001b[1;33m.\u001b[0m\u001b[0mitems\u001b[0m\u001b[1;33m(\u001b[0m\u001b[1;33m)\u001b[0m\u001b[1;33m:\u001b[0m\u001b[1;33m\u001b[0m\u001b[1;33m\u001b[0m\u001b[0m\n\u001b[0;32m   3888\u001b[0m             \u001b[1;32mif\u001b[0m \u001b[0mlabels\u001b[0m \u001b[1;32mis\u001b[0m \u001b[1;32mnot\u001b[0m \u001b[1;32mNone\u001b[0m\u001b[1;33m:\u001b[0m\u001b[1;33m\u001b[0m\u001b[1;33m\u001b[0m\u001b[0m\n\u001b[1;32m-> 3889\u001b[1;33m                 \u001b[0mobj\u001b[0m \u001b[1;33m=\u001b[0m \u001b[0mobj\u001b[0m\u001b[1;33m.\u001b[0m\u001b[0m_drop_axis\u001b[0m\u001b[1;33m(\u001b[0m\u001b[0mlabels\u001b[0m\u001b[1;33m,\u001b[0m \u001b[0maxis\u001b[0m\u001b[1;33m,\u001b[0m \u001b[0mlevel\u001b[0m\u001b[1;33m=\u001b[0m\u001b[0mlevel\u001b[0m\u001b[1;33m,\u001b[0m \u001b[0merrors\u001b[0m\u001b[1;33m=\u001b[0m\u001b[0merrors\u001b[0m\u001b[1;33m)\u001b[0m\u001b[1;33m\u001b[0m\u001b[1;33m\u001b[0m\u001b[0m\n\u001b[0m\u001b[0;32m   3890\u001b[0m \u001b[1;33m\u001b[0m\u001b[0m\n\u001b[0;32m   3891\u001b[0m         \u001b[1;32mif\u001b[0m \u001b[0minplace\u001b[0m\u001b[1;33m:\u001b[0m\u001b[1;33m\u001b[0m\u001b[1;33m\u001b[0m\u001b[0m\n",
      "\u001b[1;32m~\\anaconda3\\envs\\test\\lib\\site-packages\\pandas\\core\\generic.py\u001b[0m in \u001b[0;36m_drop_axis\u001b[1;34m(self, labels, axis, level, errors)\u001b[0m\n\u001b[0;32m   3921\u001b[0m                 \u001b[0mnew_axis\u001b[0m \u001b[1;33m=\u001b[0m \u001b[0maxis\u001b[0m\u001b[1;33m.\u001b[0m\u001b[0mdrop\u001b[0m\u001b[1;33m(\u001b[0m\u001b[0mlabels\u001b[0m\u001b[1;33m,\u001b[0m \u001b[0mlevel\u001b[0m\u001b[1;33m=\u001b[0m\u001b[0mlevel\u001b[0m\u001b[1;33m,\u001b[0m \u001b[0merrors\u001b[0m\u001b[1;33m=\u001b[0m\u001b[0merrors\u001b[0m\u001b[1;33m)\u001b[0m\u001b[1;33m\u001b[0m\u001b[1;33m\u001b[0m\u001b[0m\n\u001b[0;32m   3922\u001b[0m             \u001b[1;32melse\u001b[0m\u001b[1;33m:\u001b[0m\u001b[1;33m\u001b[0m\u001b[1;33m\u001b[0m\u001b[0m\n\u001b[1;32m-> 3923\u001b[1;33m                 \u001b[0mnew_axis\u001b[0m \u001b[1;33m=\u001b[0m \u001b[0maxis\u001b[0m\u001b[1;33m.\u001b[0m\u001b[0mdrop\u001b[0m\u001b[1;33m(\u001b[0m\u001b[0mlabels\u001b[0m\u001b[1;33m,\u001b[0m \u001b[0merrors\u001b[0m\u001b[1;33m=\u001b[0m\u001b[0merrors\u001b[0m\u001b[1;33m)\u001b[0m\u001b[1;33m\u001b[0m\u001b[1;33m\u001b[0m\u001b[0m\n\u001b[0m\u001b[0;32m   3924\u001b[0m             \u001b[0mresult\u001b[0m \u001b[1;33m=\u001b[0m \u001b[0mself\u001b[0m\u001b[1;33m.\u001b[0m\u001b[0mreindex\u001b[0m\u001b[1;33m(\u001b[0m\u001b[1;33m**\u001b[0m\u001b[1;33m{\u001b[0m\u001b[0maxis_name\u001b[0m\u001b[1;33m:\u001b[0m \u001b[0mnew_axis\u001b[0m\u001b[1;33m}\u001b[0m\u001b[1;33m)\u001b[0m\u001b[1;33m\u001b[0m\u001b[1;33m\u001b[0m\u001b[0m\n\u001b[0;32m   3925\u001b[0m \u001b[1;33m\u001b[0m\u001b[0m\n",
      "\u001b[1;32m~\\anaconda3\\envs\\test\\lib\\site-packages\\pandas\\core\\indexes\\base.py\u001b[0m in \u001b[0;36mdrop\u001b[1;34m(self, labels, errors)\u001b[0m\n\u001b[0;32m   5285\u001b[0m         \u001b[1;32mif\u001b[0m \u001b[0mmask\u001b[0m\u001b[1;33m.\u001b[0m\u001b[0many\u001b[0m\u001b[1;33m(\u001b[0m\u001b[1;33m)\u001b[0m\u001b[1;33m:\u001b[0m\u001b[1;33m\u001b[0m\u001b[1;33m\u001b[0m\u001b[0m\n\u001b[0;32m   5286\u001b[0m             \u001b[1;32mif\u001b[0m \u001b[0merrors\u001b[0m \u001b[1;33m!=\u001b[0m \u001b[1;34m\"ignore\"\u001b[0m\u001b[1;33m:\u001b[0m\u001b[1;33m\u001b[0m\u001b[1;33m\u001b[0m\u001b[0m\n\u001b[1;32m-> 5287\u001b[1;33m                 \u001b[1;32mraise\u001b[0m \u001b[0mKeyError\u001b[0m\u001b[1;33m(\u001b[0m\u001b[1;34mf\"{labels[mask]} not found in axis\"\u001b[0m\u001b[1;33m)\u001b[0m\u001b[1;33m\u001b[0m\u001b[1;33m\u001b[0m\u001b[0m\n\u001b[0m\u001b[0;32m   5288\u001b[0m             \u001b[0mindexer\u001b[0m \u001b[1;33m=\u001b[0m \u001b[0mindexer\u001b[0m\u001b[1;33m[\u001b[0m\u001b[1;33m~\u001b[0m\u001b[0mmask\u001b[0m\u001b[1;33m]\u001b[0m\u001b[1;33m\u001b[0m\u001b[1;33m\u001b[0m\u001b[0m\n\u001b[0;32m   5289\u001b[0m         \u001b[1;32mreturn\u001b[0m \u001b[0mself\u001b[0m\u001b[1;33m.\u001b[0m\u001b[0mdelete\u001b[0m\u001b[1;33m(\u001b[0m\u001b[0mindexer\u001b[0m\u001b[1;33m)\u001b[0m\u001b[1;33m\u001b[0m\u001b[1;33m\u001b[0m\u001b[0m\n",
      "\u001b[1;31mKeyError\u001b[0m: \"['Date'] not found in axis\""
     ]
    }
   ],
   "source": [
    "#dropping Date feature\n",
    "data.drop('Date',axis=1,inplace=True)"
   ]
  },
  {
   "cell_type": "markdown",
   "id": "1d7b06d8",
   "metadata": {},
   "source": [
    "# Graphical Analysis"
   ]
  },
  {
   "cell_type": "code",
   "execution_count": 44,
   "id": "6b021ef3",
   "metadata": {},
   "outputs": [
    {
     "data": {
      "text/html": [
       "<div>\n",
       "<style scoped>\n",
       "    .dataframe tbody tr th:only-of-type {\n",
       "        vertical-align: middle;\n",
       "    }\n",
       "\n",
       "    .dataframe tbody tr th {\n",
       "        vertical-align: top;\n",
       "    }\n",
       "\n",
       "    .dataframe thead th {\n",
       "        text-align: right;\n",
       "    }\n",
       "</style>\n",
       "<table border=\"1\" class=\"dataframe\">\n",
       "  <thead>\n",
       "    <tr style=\"text-align: right;\">\n",
       "      <th></th>\n",
       "      <th>Global_active_power</th>\n",
       "      <th>Global_reactive_power</th>\n",
       "      <th>Voltage</th>\n",
       "      <th>Global_intensity</th>\n",
       "      <th>year</th>\n",
       "      <th>month</th>\n",
       "      <th>power_consumption</th>\n",
       "      <th>sub_metering</th>\n",
       "    </tr>\n",
       "  </thead>\n",
       "  <tbody>\n",
       "    <tr>\n",
       "      <th>0</th>\n",
       "      <td>26.834</td>\n",
       "      <td>0.720</td>\n",
       "      <td>1890.66</td>\n",
       "      <td>114.6</td>\n",
       "      <td>2006</td>\n",
       "      <td>12</td>\n",
       "      <td>359.233333</td>\n",
       "      <td>88.0</td>\n",
       "    </tr>\n",
       "    <tr>\n",
       "      <th>1</th>\n",
       "      <td>85.920</td>\n",
       "      <td>5.756</td>\n",
       "      <td>8139.11</td>\n",
       "      <td>361.4</td>\n",
       "      <td>2006</td>\n",
       "      <td>12</td>\n",
       "      <td>826.000000</td>\n",
       "      <td>606.0</td>\n",
       "    </tr>\n",
       "    <tr>\n",
       "      <th>2</th>\n",
       "      <td>56.092</td>\n",
       "      <td>4.340</td>\n",
       "      <td>9168.80</td>\n",
       "      <td>235.8</td>\n",
       "      <td>2006</td>\n",
       "      <td>12</td>\n",
       "      <td>506.866667</td>\n",
       "      <td>428.0</td>\n",
       "    </tr>\n",
       "    <tr>\n",
       "      <th>3</th>\n",
       "      <td>35.980</td>\n",
       "      <td>4.052</td>\n",
       "      <td>8718.24</td>\n",
       "      <td>153.2</td>\n",
       "      <td>2006</td>\n",
       "      <td>12</td>\n",
       "      <td>289.666667</td>\n",
       "      <td>310.0</td>\n",
       "    </tr>\n",
       "    <tr>\n",
       "      <th>4</th>\n",
       "      <td>53.804</td>\n",
       "      <td>3.766</td>\n",
       "      <td>8942.63</td>\n",
       "      <td>225.2</td>\n",
       "      <td>2006</td>\n",
       "      <td>12</td>\n",
       "      <td>573.733333</td>\n",
       "      <td>323.0</td>\n",
       "    </tr>\n",
       "    <tr>\n",
       "      <th>...</th>\n",
       "      <td>...</td>\n",
       "      <td>...</td>\n",
       "      <td>...</td>\n",
       "      <td>...</td>\n",
       "      <td>...</td>\n",
       "      <td>...</td>\n",
       "      <td>...</td>\n",
       "      <td>...</td>\n",
       "    </tr>\n",
       "    <tr>\n",
       "      <th>1437</th>\n",
       "      <td>20.534</td>\n",
       "      <td>5.096</td>\n",
       "      <td>7201.28</td>\n",
       "      <td>92.2</td>\n",
       "      <td>2010</td>\n",
       "      <td>12</td>\n",
       "      <td>175.233333</td>\n",
       "      <td>167.0</td>\n",
       "    </tr>\n",
       "    <tr>\n",
       "      <th>1438</th>\n",
       "      <td>9.846</td>\n",
       "      <td>2.434</td>\n",
       "      <td>6272.64</td>\n",
       "      <td>43.4</td>\n",
       "      <td>2010</td>\n",
       "      <td>12</td>\n",
       "      <td>78.100000</td>\n",
       "      <td>86.0</td>\n",
       "    </tr>\n",
       "    <tr>\n",
       "      <th>1439</th>\n",
       "      <td>41.672</td>\n",
       "      <td>4.008</td>\n",
       "      <td>7970.44</td>\n",
       "      <td>175.6</td>\n",
       "      <td>2010</td>\n",
       "      <td>12</td>\n",
       "      <td>343.533333</td>\n",
       "      <td>351.0</td>\n",
       "    </tr>\n",
       "    <tr>\n",
       "      <th>1440</th>\n",
       "      <td>40.540</td>\n",
       "      <td>3.810</td>\n",
       "      <td>8415.11</td>\n",
       "      <td>170.2</td>\n",
       "      <td>2010</td>\n",
       "      <td>12</td>\n",
       "      <td>424.666667</td>\n",
       "      <td>251.0</td>\n",
       "    </tr>\n",
       "    <tr>\n",
       "      <th>1441</th>\n",
       "      <td>53.136</td>\n",
       "      <td>4.464</td>\n",
       "      <td>10296.51</td>\n",
       "      <td>225.4</td>\n",
       "      <td>2010</td>\n",
       "      <td>12</td>\n",
       "      <td>462.600000</td>\n",
       "      <td>423.0</td>\n",
       "    </tr>\n",
       "  </tbody>\n",
       "</table>\n",
       "<p>1442 rows × 8 columns</p>\n",
       "</div>"
      ],
      "text/plain": [
       "      Global_active_power  Global_reactive_power   Voltage  Global_intensity  \\\n",
       "0                  26.834                  0.720   1890.66             114.6   \n",
       "1                  85.920                  5.756   8139.11             361.4   \n",
       "2                  56.092                  4.340   9168.80             235.8   \n",
       "3                  35.980                  4.052   8718.24             153.2   \n",
       "4                  53.804                  3.766   8942.63             225.2   \n",
       "...                   ...                    ...       ...               ...   \n",
       "1437               20.534                  5.096   7201.28              92.2   \n",
       "1438                9.846                  2.434   6272.64              43.4   \n",
       "1439               41.672                  4.008   7970.44             175.6   \n",
       "1440               40.540                  3.810   8415.11             170.2   \n",
       "1441               53.136                  4.464  10296.51             225.4   \n",
       "\n",
       "      year  month  power_consumption  sub_metering  \n",
       "0     2006     12         359.233333          88.0  \n",
       "1     2006     12         826.000000         606.0  \n",
       "2     2006     12         506.866667         428.0  \n",
       "3     2006     12         289.666667         310.0  \n",
       "4     2006     12         573.733333         323.0  \n",
       "...    ...    ...                ...           ...  \n",
       "1437  2010     12         175.233333         167.0  \n",
       "1438  2010     12          78.100000          86.0  \n",
       "1439  2010     12         343.533333         351.0  \n",
       "1440  2010     12         424.666667         251.0  \n",
       "1441  2010     12         462.600000         423.0  \n",
       "\n",
       "[1442 rows x 8 columns]"
      ]
     },
     "execution_count": 44,
     "metadata": {},
     "output_type": "execute_result"
    }
   ],
   "source": [
    "data"
   ]
  },
  {
   "cell_type": "markdown",
   "id": "b444a2b7",
   "metadata": {},
   "source": [
    "# Separating Dependent and Independent Variable"
   ]
  },
  {
   "cell_type": "code",
   "execution_count": 45,
   "id": "4fd76a06",
   "metadata": {},
   "outputs": [],
   "source": [
    "#dependent variable\n",
    "X=data[['Global_active_power','Global_reactive_power','Voltage','Global_intensity','year','month','sub_metering']]"
   ]
  },
  {
   "cell_type": "code",
   "execution_count": 46,
   "id": "a8e7abd0",
   "metadata": {},
   "outputs": [
    {
     "data": {
      "text/html": [
       "<div>\n",
       "<style scoped>\n",
       "    .dataframe tbody tr th:only-of-type {\n",
       "        vertical-align: middle;\n",
       "    }\n",
       "\n",
       "    .dataframe tbody tr th {\n",
       "        vertical-align: top;\n",
       "    }\n",
       "\n",
       "    .dataframe thead th {\n",
       "        text-align: right;\n",
       "    }\n",
       "</style>\n",
       "<table border=\"1\" class=\"dataframe\">\n",
       "  <thead>\n",
       "    <tr style=\"text-align: right;\">\n",
       "      <th></th>\n",
       "      <th>Global_active_power</th>\n",
       "      <th>Global_reactive_power</th>\n",
       "      <th>Voltage</th>\n",
       "      <th>Global_intensity</th>\n",
       "      <th>year</th>\n",
       "      <th>month</th>\n",
       "      <th>sub_metering</th>\n",
       "    </tr>\n",
       "  </thead>\n",
       "  <tbody>\n",
       "    <tr>\n",
       "      <th>0</th>\n",
       "      <td>26.834</td>\n",
       "      <td>0.720</td>\n",
       "      <td>1890.66</td>\n",
       "      <td>114.6</td>\n",
       "      <td>2006</td>\n",
       "      <td>12</td>\n",
       "      <td>88.0</td>\n",
       "    </tr>\n",
       "    <tr>\n",
       "      <th>1</th>\n",
       "      <td>85.920</td>\n",
       "      <td>5.756</td>\n",
       "      <td>8139.11</td>\n",
       "      <td>361.4</td>\n",
       "      <td>2006</td>\n",
       "      <td>12</td>\n",
       "      <td>606.0</td>\n",
       "    </tr>\n",
       "    <tr>\n",
       "      <th>2</th>\n",
       "      <td>56.092</td>\n",
       "      <td>4.340</td>\n",
       "      <td>9168.80</td>\n",
       "      <td>235.8</td>\n",
       "      <td>2006</td>\n",
       "      <td>12</td>\n",
       "      <td>428.0</td>\n",
       "    </tr>\n",
       "    <tr>\n",
       "      <th>3</th>\n",
       "      <td>35.980</td>\n",
       "      <td>4.052</td>\n",
       "      <td>8718.24</td>\n",
       "      <td>153.2</td>\n",
       "      <td>2006</td>\n",
       "      <td>12</td>\n",
       "      <td>310.0</td>\n",
       "    </tr>\n",
       "    <tr>\n",
       "      <th>4</th>\n",
       "      <td>53.804</td>\n",
       "      <td>3.766</td>\n",
       "      <td>8942.63</td>\n",
       "      <td>225.2</td>\n",
       "      <td>2006</td>\n",
       "      <td>12</td>\n",
       "      <td>323.0</td>\n",
       "    </tr>\n",
       "    <tr>\n",
       "      <th>...</th>\n",
       "      <td>...</td>\n",
       "      <td>...</td>\n",
       "      <td>...</td>\n",
       "      <td>...</td>\n",
       "      <td>...</td>\n",
       "      <td>...</td>\n",
       "      <td>...</td>\n",
       "    </tr>\n",
       "    <tr>\n",
       "      <th>1437</th>\n",
       "      <td>20.534</td>\n",
       "      <td>5.096</td>\n",
       "      <td>7201.28</td>\n",
       "      <td>92.2</td>\n",
       "      <td>2010</td>\n",
       "      <td>12</td>\n",
       "      <td>167.0</td>\n",
       "    </tr>\n",
       "    <tr>\n",
       "      <th>1438</th>\n",
       "      <td>9.846</td>\n",
       "      <td>2.434</td>\n",
       "      <td>6272.64</td>\n",
       "      <td>43.4</td>\n",
       "      <td>2010</td>\n",
       "      <td>12</td>\n",
       "      <td>86.0</td>\n",
       "    </tr>\n",
       "    <tr>\n",
       "      <th>1439</th>\n",
       "      <td>41.672</td>\n",
       "      <td>4.008</td>\n",
       "      <td>7970.44</td>\n",
       "      <td>175.6</td>\n",
       "      <td>2010</td>\n",
       "      <td>12</td>\n",
       "      <td>351.0</td>\n",
       "    </tr>\n",
       "    <tr>\n",
       "      <th>1440</th>\n",
       "      <td>40.540</td>\n",
       "      <td>3.810</td>\n",
       "      <td>8415.11</td>\n",
       "      <td>170.2</td>\n",
       "      <td>2010</td>\n",
       "      <td>12</td>\n",
       "      <td>251.0</td>\n",
       "    </tr>\n",
       "    <tr>\n",
       "      <th>1441</th>\n",
       "      <td>53.136</td>\n",
       "      <td>4.464</td>\n",
       "      <td>10296.51</td>\n",
       "      <td>225.4</td>\n",
       "      <td>2010</td>\n",
       "      <td>12</td>\n",
       "      <td>423.0</td>\n",
       "    </tr>\n",
       "  </tbody>\n",
       "</table>\n",
       "<p>1442 rows × 7 columns</p>\n",
       "</div>"
      ],
      "text/plain": [
       "      Global_active_power  Global_reactive_power   Voltage  Global_intensity  \\\n",
       "0                  26.834                  0.720   1890.66             114.6   \n",
       "1                  85.920                  5.756   8139.11             361.4   \n",
       "2                  56.092                  4.340   9168.80             235.8   \n",
       "3                  35.980                  4.052   8718.24             153.2   \n",
       "4                  53.804                  3.766   8942.63             225.2   \n",
       "...                   ...                    ...       ...               ...   \n",
       "1437               20.534                  5.096   7201.28              92.2   \n",
       "1438                9.846                  2.434   6272.64              43.4   \n",
       "1439               41.672                  4.008   7970.44             175.6   \n",
       "1440               40.540                  3.810   8415.11             170.2   \n",
       "1441               53.136                  4.464  10296.51             225.4   \n",
       "\n",
       "      year  month  sub_metering  \n",
       "0     2006     12          88.0  \n",
       "1     2006     12         606.0  \n",
       "2     2006     12         428.0  \n",
       "3     2006     12         310.0  \n",
       "4     2006     12         323.0  \n",
       "...    ...    ...           ...  \n",
       "1437  2010     12         167.0  \n",
       "1438  2010     12          86.0  \n",
       "1439  2010     12         351.0  \n",
       "1440  2010     12         251.0  \n",
       "1441  2010     12         423.0  \n",
       "\n",
       "[1442 rows x 7 columns]"
      ]
     },
     "execution_count": 46,
     "metadata": {},
     "output_type": "execute_result"
    }
   ],
   "source": [
    "X"
   ]
  },
  {
   "cell_type": "code",
   "execution_count": 49,
   "id": "7eda5b58",
   "metadata": {},
   "outputs": [],
   "source": [
    "Y=data[['power_consumption']]"
   ]
  },
  {
   "cell_type": "code",
   "execution_count": 50,
   "id": "5e62815b",
   "metadata": {},
   "outputs": [
    {
     "data": {
      "text/html": [
       "<div>\n",
       "<style scoped>\n",
       "    .dataframe tbody tr th:only-of-type {\n",
       "        vertical-align: middle;\n",
       "    }\n",
       "\n",
       "    .dataframe tbody tr th {\n",
       "        vertical-align: top;\n",
       "    }\n",
       "\n",
       "    .dataframe thead th {\n",
       "        text-align: right;\n",
       "    }\n",
       "</style>\n",
       "<table border=\"1\" class=\"dataframe\">\n",
       "  <thead>\n",
       "    <tr style=\"text-align: right;\">\n",
       "      <th></th>\n",
       "      <th>power_consumption</th>\n",
       "    </tr>\n",
       "  </thead>\n",
       "  <tbody>\n",
       "    <tr>\n",
       "      <th>0</th>\n",
       "      <td>359.233333</td>\n",
       "    </tr>\n",
       "    <tr>\n",
       "      <th>1</th>\n",
       "      <td>826.000000</td>\n",
       "    </tr>\n",
       "    <tr>\n",
       "      <th>2</th>\n",
       "      <td>506.866667</td>\n",
       "    </tr>\n",
       "    <tr>\n",
       "      <th>3</th>\n",
       "      <td>289.666667</td>\n",
       "    </tr>\n",
       "    <tr>\n",
       "      <th>4</th>\n",
       "      <td>573.733333</td>\n",
       "    </tr>\n",
       "    <tr>\n",
       "      <th>...</th>\n",
       "      <td>...</td>\n",
       "    </tr>\n",
       "    <tr>\n",
       "      <th>1437</th>\n",
       "      <td>175.233333</td>\n",
       "    </tr>\n",
       "    <tr>\n",
       "      <th>1438</th>\n",
       "      <td>78.100000</td>\n",
       "    </tr>\n",
       "    <tr>\n",
       "      <th>1439</th>\n",
       "      <td>343.533333</td>\n",
       "    </tr>\n",
       "    <tr>\n",
       "      <th>1440</th>\n",
       "      <td>424.666667</td>\n",
       "    </tr>\n",
       "    <tr>\n",
       "      <th>1441</th>\n",
       "      <td>462.600000</td>\n",
       "    </tr>\n",
       "  </tbody>\n",
       "</table>\n",
       "<p>1442 rows × 1 columns</p>\n",
       "</div>"
      ],
      "text/plain": [
       "      power_consumption\n",
       "0            359.233333\n",
       "1            826.000000\n",
       "2            506.866667\n",
       "3            289.666667\n",
       "4            573.733333\n",
       "...                 ...\n",
       "1437         175.233333\n",
       "1438          78.100000\n",
       "1439         343.533333\n",
       "1440         424.666667\n",
       "1441         462.600000\n",
       "\n",
       "[1442 rows x 1 columns]"
      ]
     },
     "execution_count": 50,
     "metadata": {},
     "output_type": "execute_result"
    }
   ],
   "source": [
    "Y"
   ]
  },
  {
   "cell_type": "code",
   "execution_count": 57,
   "id": "efe2d6b9",
   "metadata": {},
   "outputs": [
    {
     "data": {
      "image/png": "[encoded data removed]",
      "text/plain": [
       "<Figure size 1152x1296 with 7 Axes>"
      ]
     },
     "metadata": {
      "needs_background": "light"
     },
     "output_type": "display_data"
    }
   ],
   "source": [
    "plt.figure(figsize=(16,18))\n",
    "for col in range(0,len(X.columns)):\n",
    "    plt.subplot(4,2,col+1)\n",
    "    sns.distplot(x=X[X.columns[col]],shade=True,data=X)\n",
    "    plt.tight_layout()"
   ]
  },
  {
   "cell_type": "code",
   "execution_count": 60,
   "id": "9888f9a0",
   "metadata": {},
   "outputs": [
    {
     "data": {
      "text/plain": [
       "<AxesSubplot:xlabel='year', ylabel='count'>"
      ]
     },
     "execution_count": 60,
     "metadata": {},
     "output_type": "execute_result"
    },
    {
     "data": {
      "image/png": "[encoded data removed]",
      "text/plain": [
       "<Figure size 432x288 with 1 Axes>"
      ]
     },
     "metadata": {
      "needs_background": "light"
     },
     "output_type": "display_data"
    }
   ],
   "source": [
    "sns.countplot(x=X['year'])"
   ]
  },
  {
   "cell_type": "code",
   "execution_count": 61,
   "id": "814c1bd0",
   "metadata": {},
   "outputs": [
    {
     "data": {
      "text/plain": [
       "<AxesSubplot:xlabel='month', ylabel='count'>"
      ]
     },
     "execution_count": 61,
     "metadata": {},
     "output_type": "execute_result"
    },
    {
     "data": {
      "image/png": "[encoded data removed]",
      "text/plain": [
       "<Figure size 432x288 with 1 Axes>"
      ]
     },
     "metadata": {
      "needs_background": "light"
     },
     "output_type": "display_data"
    }
   ],
   "source": [
    "sns.countplot(x=X['month'])"
   ]
  },
  {
   "cell_type": "code",
   "execution_count": 67,
   "id": "f12d9455",
   "metadata": {},
   "outputs": [
    {
     "data": {
      "text/plain": [
       "<AxesSubplot:>"
      ]
     },
     "execution_count": 67,
     "metadata": {},
     "output_type": "execute_result"
    },
    {
     "data": {
      "image/png": "[encoded data removed]",
      "text/plain": [
       "<Figure size 720x576 with 2 Axes>"
      ]
     },
     "metadata": {
      "needs_background": "light"
     },
     "output_type": "display_data"
    }
   ],
   "source": [
    "plt.figure(figsize=(10,8))\n",
    "sns.heatmap(X.corr(),cmap='GnBu',annot=True)"
   ]
  },
  {
   "cell_type": "code",
   "execution_count": null,
   "id": "d95deeb9",
   "metadata": {},
   "outputs": [],
   "source": []
  }
 ],
 "metadata": {
  "kernelspec": {
   "display_name": "Python 3",
   "language": "python",
   "name": "python3"
  },
  "language_info": {
   "codemirror_mode": {
    "name": "ipython",
    "version": 3
   },
   "file_extension": ".py",
   "mimetype": "text/x-python",
   "name": "python",
   "nbconvert_exporter": "python",
   "pygments_lexer": "ipython3",
   "version": "3.6.13"
  }
 },
 "nbformat": 4,
 "nbformat_minor": 5
}
